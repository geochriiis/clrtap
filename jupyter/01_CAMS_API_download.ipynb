{
 "cells": [
  {
   "cell_type": "markdown",
   "id": "b21e9af9",
   "metadata": {},
   "source": [
    "# CLRTAP review 2024"
   ]
  },
  {
   "cell_type": "markdown",
   "id": "288e19be",
   "metadata": {},
   "source": [
    "Details for this year's review TBD"
   ]
  },
  {
   "cell_type": "markdown",
   "id": "ea40d071",
   "metadata": {},
   "source": [
    "Add your API key here `C:\\Users\\USER\\.cdsapirc`\n",
    "It should be in the form \n",
    "\n",
    "`url: https://ads.atmosphere.copernicus.eu/api/v2\n",
    "key: 18559:17371090-6313-4306-a7fc-38667ef22764`\n",
    "\n",
    "More details here https://ads.atmosphere.copernicus.eu/api-how-to"
   ]
  },
  {
   "cell_type": "code",
   "execution_count": 1,
   "id": "d0135f10",
   "metadata": {},
   "outputs": [],
   "source": [
    "import cdsapi"
   ]
  },
  {
   "cell_type": "code",
   "execution_count": null,
   "id": "adbc8945",
   "metadata": {},
   "outputs": [],
   "source": [
    "user_input = input(\"Enter the download path: \")"
   ]
  },
  {
   "cell_type": "code",
   "execution_count": null,
   "id": "15d7c8f0",
   "metadata": {},
   "outputs": [],
   "source": [
    "# Set the variable cams_download_path to the user input\n",
    "cams_download_path = user_input\n",
    "\n",
    "# Print the path for verification\n",
    "print(\"Download path set to:\", cams_download_path)"
   ]
  },
  {
   "cell_type": "code",
   "execution_count": null,
   "id": "b61f5108",
   "metadata": {},
   "outputs": [],
   "source": [
    "# Since we are only interested in NMVOC for 2019, we should call the API in the following format\n",
    "\n",
    "c = cdsapi.Client()\n",
    "\n",
    "c.retrieve(\n",
    "    'cams-global-emission-inventories',\n",
    "    {\n",
    "        'variable': 'non_methane_vocs',\n",
    "        'source': 'anthropogenic',\n",
    "        'version': 'latest',\n",
    "        'year': '2019',\n",
    "        'format': 'zip',\n",
    "    },\n",
    "    cams_download_path)"
   ]
  }
 ],
 "metadata": {
  "kernelspec": {
   "display_name": "Python 3 (ipykernel)",
   "language": "python",
   "name": "python3"
  },
  "language_info": {
   "codemirror_mode": {
    "name": "ipython",
    "version": 3
   },
   "file_extension": ".py",
   "mimetype": "text/x-python",
   "name": "python",
   "nbconvert_exporter": "python",
   "pygments_lexer": "ipython3",
   "version": "3.9.18"
  }
 },
 "nbformat": 4,
 "nbformat_minor": 5
}
