{
 "cells": [
  {
   "cell_type": "markdown",
   "id": "7c0e5285",
   "metadata": {},
   "source": [
    "# Gridded data review\n",
    "\n",
    "**Description:**   \n",
    "This script is part of the annual gridded data review for CLRTAP \n",
    "\n",
    "**Original Author:** Christopher Evangelides   \n",
    "**Date:**  May 2024   \n",
    "**Maintainer:** XXX      \n",
    "**Date:** XXX 20XX    "
   ]
  },
  {
   "cell_type": "code",
   "execution_count": 10,
   "id": "8ab37303",
   "metadata": {},
   "outputs": [],
   "source": [
    "import rasterio\n",
    "from rasterio.plot import show\n",
    "import numpy as np\n",
    "import matplotlib.pyplot as plt\n",
    "import sqlalchemy as db\n",
    "from sqlalchemy import create_engine\n",
    "import os\n",
    "import geopandas as gpd"
   ]
  },
  {
   "cell_type": "code",
   "execution_count": 11,
   "id": "5c0dd179",
   "metadata": {},
   "outputs": [
    {
     "name": "stdout",
     "output_type": "stream",
     "text": [
      "Your are: ce6\n"
     ]
    }
   ],
   "source": [
    "user = os.getlogin()\n",
    "\n",
    "ROOT_PSW = os.path.join(r'C:\\Users',user,\"db_credentials\")\n",
    "filename_sqlalchemy = 'sqlalchemy_engine_gisdata.txt'\n",
    "filename_sqlalchemy_path = os.path.join(ROOT_PSW, filename_sqlalchemy)\n",
    "\n",
    "# Load the credentials with the correct path\n",
    "if os.path.exists(filename_sqlalchemy_path):\n",
    "    print(\"Your are: \" + user)\n",
    "\n",
    "    with open(filename_sqlalchemy_path) as f:\n",
    "        lines = f.readlines()\n",
    "        engine = db.create_engine(lines[0])"
   ]
  },
  {
   "cell_type": "code",
   "execution_count": null,
   "id": "68751d5b",
   "metadata": {},
   "outputs": [],
   "source": []
  }
 ],
 "metadata": {
  "kernelspec": {
   "display_name": "Python 3 (ipykernel)",
   "language": "python",
   "name": "python3"
  },
  "language_info": {
   "codemirror_mode": {
    "name": "ipython",
    "version": 3
   },
   "file_extension": ".py",
   "mimetype": "text/x-python",
   "name": "python",
   "nbconvert_exporter": "python",
   "pygments_lexer": "ipython3",
   "version": "3.9.18"
  }
 },
 "nbformat": 4,
 "nbformat_minor": 5
}
