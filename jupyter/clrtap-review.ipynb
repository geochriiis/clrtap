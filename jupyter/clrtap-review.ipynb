{
 "cells": [
  {
   "cell_type": "markdown",
   "metadata": {},
   "source": [
    "# CLRTAP review 2023"
   ]
  },
  {
   "cell_type": "markdown",
   "metadata": {},
   "source": [
    "Main script for the CLRTAP review in 2023. "
   ]
  },
  {
   "cell_type": "code",
   "execution_count": null,
   "metadata": {},
   "outputs": [],
   "source": [
    "# Countries to be reviewed by Ricardo for this submission\n",
    "\n",
    "countries = ['Austria',\n",
    "             'Bulgaria',\n",
    "             'Italy',\n",
    "             'Poland',\n",
    "             'Romania',\n",
    "             'Slovakia',\n",
    "             'Spain',\n",
    "             'Sweden',\n",
    "             'Switzerland',\n",
    "             'Czechia'\n",
    "             'Finland',\n",
    "             'Lithuania']      \n",
    "\n"
   ]
  }
 ],
 "metadata": {
  "kernelspec": {
   "display_name": "ArcGISPro",
   "language": "Python",
   "name": "python3"
  },
  "language_info": {
   "file_extension": ".py",
   "name": "python",
   "version": "3"
  }
 },
 "nbformat": 4,
 "nbformat_minor": 2
}
